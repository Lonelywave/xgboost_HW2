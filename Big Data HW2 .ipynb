{
 "cells": [
  {
   "cell_type": "code",
   "execution_count": 1,
   "metadata": {},
   "outputs": [
    {
     "name": "stderr",
     "output_type": "stream",
     "text": [
      "/usr/local/lib/python2.7/dist-packages/sklearn/cross_validation.py:44: DeprecationWarning: This module was deprecated in version 0.18 in favor of the model_selection module into which all the refactored classes and functions are moved. Also note that the interface of the new CV iterators are different from that of this module. This module will be removed in 0.20.\n",
      "  \"This module will be removed in 0.20.\", DeprecationWarning)\n",
      "/usr/local/lib/python2.7/dist-packages/sklearn/grid_search.py:43: DeprecationWarning: This module was deprecated in version 0.18 in favor of the model_selection module into which all the refactored classes and functions are moved. This module will be removed in 0.20.\n",
      "  DeprecationWarning)\n"
     ]
    }
   ],
   "source": [
    "import numpy as np\n",
    "import pandas as pd\n",
    "import xgboost as xgb\n",
    "from xgboost.sklearn import XGBClassifier\n",
    "from sklearn.grid_search import GridSearchCV\n",
    "%matplotlib inline\n",
    "### load data in do training\n",
    "train = pd.read_csv('LargeTrain.csv')\n",
    "train['Class'] = [ i - 1 for i in train['Class']]\n",
    "target = 'Class'\n",
    "predictors = [x for x in train.columns if x not in target]"
   ]
  },
  {
   "cell_type": "code",
   "execution_count": 2,
   "metadata": {},
   "outputs": [
    {
     "name": "stdout",
     "output_type": "stream",
     "text": [
      "Fitting 5 folds for each of 9 candidates, totalling 45 fits\n",
      "[CV] max_depth=3, min_child_weight=1 .................................\n",
      "[CV] max_depth=3, min_child_weight=1 .................................\n",
      "[CV] max_depth=3, min_child_weight=1 .................................\n",
      "[CV] max_depth=3, min_child_weight=1 .................................\n",
      "[CV] ........ max_depth=3, min_child_weight=1, score=0.994940 -18.9min\n",
      "[CV] ........ max_depth=3, min_child_weight=1, score=0.994485 -19.0min\n",
      "[CV] max_depth=3, min_child_weight=1 .................................\n",
      "[CV] ........ max_depth=3, min_child_weight=1, score=0.995868 -19.0min\n",
      "[CV] ........ max_depth=3, min_child_weight=1, score=0.996774 -19.0min\n",
      "[CV] max_depth=3, min_child_weight=3 .................................\n",
      "[CV] max_depth=3, min_child_weight=3 .................................\n",
      "[CV] max_depth=3, min_child_weight=3 .................................\n",
      "[CV] ........ max_depth=3, min_child_weight=3, score=0.994020 -17.5min\n",
      "[CV] max_depth=3, min_child_weight=3 .................................\n",
      "[CV] ........ max_depth=3, min_child_weight=3, score=0.994031 -17.6min\n",
      "[CV] max_depth=3, min_child_weight=3 .................................\n",
      "[CV] ........ max_depth=3, min_child_weight=1, score=0.994931 -17.7min\n",
      "[CV] max_depth=3, min_child_weight=5 .................................\n",
      "[CV] ........ max_depth=3, min_child_weight=3, score=0.994026 -17.7min\n",
      "[CV] max_depth=3, min_child_weight=5 .................................\n",
      "[CV] ........ max_depth=3, min_child_weight=5, score=0.994490 -17.4min\n",
      "[CV] max_depth=3, min_child_weight=5 .................................\n",
      "[CV] ........ max_depth=3, min_child_weight=5, score=0.994026 -17.4min\n",
      "[CV] max_depth=3, min_child_weight=5 .................................\n",
      "[CV] ........ max_depth=3, min_child_weight=3, score=0.997235 -17.6min\n",
      "[CV] max_depth=3, min_child_weight=5 .................................\n",
      "[CV] ........ max_depth=3, min_child_weight=3, score=0.994931 -17.6min\n",
      "[CV] max_depth=5, min_child_weight=1 .................................\n",
      "[CV] ........ max_depth=3, min_child_weight=5, score=0.993560 -17.1min\n",
      "[CV] max_depth=5, min_child_weight=1 .................................\n",
      "[CV] ........ max_depth=3, min_child_weight=5, score=0.997696 -17.3min\n",
      "[CV] max_depth=5, min_child_weight=1 .................................\n",
      "[CV] ........ max_depth=3, min_child_weight=5, score=0.994470 -17.3min\n",
      "[CV] max_depth=5, min_child_weight=1 .................................\n",
      "[CV] ........ max_depth=5, min_child_weight=1, score=0.997245 -23.2min\n",
      "[CV] max_depth=5, min_child_weight=1 .................................\n",
      "[CV] ........ max_depth=5, min_child_weight=1, score=0.995404 -23.1min\n",
      "[CV] max_depth=5, min_child_weight=3 .................................\n",
      "[CV] ........ max_depth=5, min_child_weight=1, score=0.995400 -23.0min\n",
      "[CV] max_depth=5, min_child_weight=3 .................................\n",
      "[CV] ........ max_depth=5, min_child_weight=1, score=0.997696 -23.4min\n",
      "[CV] max_depth=5, min_child_weight=3 .................................\n",
      "[CV] ........ max_depth=5, min_child_weight=1, score=0.995392 -23.4min\n",
      "[CV] max_depth=5, min_child_weight=3 .................................\n",
      "[CV] ........ max_depth=5, min_child_weight=3, score=0.997245 -22.5min\n",
      "[CV] max_depth=5, min_child_weight=3 .................................\n",
      "[CV] ........ max_depth=5, min_child_weight=3, score=0.995864 -22.6min\n",
      "[CV] max_depth=5, min_child_weight=5 .................................\n",
      "[CV] ........ max_depth=5, min_child_weight=3, score=0.994940 -22.4min\n",
      "[CV] max_depth=5, min_child_weight=5 .................................\n",
      "[CV] ........ max_depth=5, min_child_weight=3, score=0.997696 -22.7min\n",
      "[CV] max_depth=5, min_child_weight=5 .................................\n"
     ]
    },
    {
     "name": "stderr",
     "output_type": "stream",
     "text": [
      "[Parallel(n_jobs=4)]: Done  24 tasks      | elapsed: 123.6min\n"
     ]
    },
    {
     "name": "stdout",
     "output_type": "stream",
     "text": [
      "[CV] ........ max_depth=5, min_child_weight=5, score=0.995409 -21.7min\n",
      "[CV] max_depth=5, min_child_weight=5 .................................\n",
      "[CV] ........ max_depth=5, min_child_weight=5, score=0.994945 -21.8min\n",
      "[CV] max_depth=5, min_child_weight=5 .................................\n",
      "[CV] ........ max_depth=5, min_child_weight=3, score=0.995392 -22.5min\n",
      "[CV] max_depth=7, min_child_weight=1 .................................\n",
      "[CV] ........ max_depth=5, min_child_weight=5, score=0.994480 -21.8min\n",
      "[CV] max_depth=7, min_child_weight=1 .................................\n",
      "[CV] ........ max_depth=5, min_child_weight=5, score=0.995853 -22.5min\n",
      "[CV] max_depth=7, min_child_weight=1 .................................\n",
      "[CV] ........ max_depth=5, min_child_weight=5, score=0.997235 -22.8min\n",
      "[CV] max_depth=7, min_child_weight=1 .................................\n",
      "[CV] ........ max_depth=7, min_child_weight=1, score=0.997245 -26.8min\n",
      "[CV] max_depth=7, min_child_weight=1 .................................\n",
      "[CV] ........ max_depth=7, min_child_weight=1, score=0.995864 -26.7min\n",
      "[CV] max_depth=7, min_child_weight=3 .................................\n",
      "[CV] ........ max_depth=7, min_child_weight=1, score=0.994480 -26.4min\n",
      "[CV] max_depth=7, min_child_weight=3 .................................\n",
      "[CV] ........ max_depth=7, min_child_weight=1, score=0.996774 -26.8min\n",
      "[CV] max_depth=7, min_child_weight=3 .................................\n",
      "[CV] ........ max_depth=7, min_child_weight=1, score=0.996313 -26.8min\n",
      "[CV] max_depth=7, min_child_weight=3 .................................\n",
      "[CV] ........ max_depth=7, min_child_weight=3, score=0.996327 -24.8min\n",
      "[CV] max_depth=7, min_child_weight=3 .................................\n",
      "[CV] ........ max_depth=7, min_child_weight=3, score=0.995404 -24.8min\n",
      "[CV] max_depth=7, min_child_weight=5 .................................\n",
      "[CV] ........ max_depth=7, min_child_weight=3, score=0.994940 -24.5min\n",
      "[CV] max_depth=7, min_child_weight=5 .................................\n",
      "[CV] ........ max_depth=7, min_child_weight=3, score=0.997696 -25.0min\n",
      "[CV] max_depth=7, min_child_weight=5 .................................\n",
      "[CV] ........ max_depth=7, min_child_weight=3, score=0.995853 -25.0min\n",
      "[CV] max_depth=7, min_child_weight=5 .................................\n",
      "[CV] ........ max_depth=7, min_child_weight=5, score=0.995409 -23.9min\n",
      "[CV] max_depth=7, min_child_weight=5 .................................\n",
      "[CV] ........ max_depth=7, min_child_weight=5, score=0.994945 -23.9min\n",
      "[CV] ........ max_depth=7, min_child_weight=5, score=0.994480 -22.3min\n",
      "[CV] ........ max_depth=7, min_child_weight=5, score=0.998157 -20.8min\n",
      "[CV] ........ max_depth=7, min_child_weight=5, score=0.995853 - 9.6min\n"
     ]
    },
    {
     "name": "stderr",
     "output_type": "stream",
     "text": [
      "[Parallel(n_jobs=4)]: Done  45 out of  45 | elapsed: 246.3min finished\n"
     ]
    },
    {
     "data": {
      "text/plain": [
       "([mean: 0.99540, std: 0.00082, params: {'max_depth': 3, 'min_child_weight': 1},\n",
       "  mean: 0.99485, std: 0.00124, params: {'max_depth': 3, 'min_child_weight': 3},\n",
       "  mean: 0.99485, std: 0.00146, params: {'max_depth': 3, 'min_child_weight': 5},\n",
       "  mean: 0.99623, std: 0.00102, params: {'max_depth': 5, 'min_child_weight': 1},\n",
       "  mean: 0.99623, std: 0.00107, params: {'max_depth': 5, 'min_child_weight': 3},\n",
       "  mean: 0.99558, std: 0.00094, params: {'max_depth': 5, 'min_child_weight': 5},\n",
       "  mean: 0.99614, std: 0.00095, params: {'max_depth': 7, 'min_child_weight': 1},\n",
       "  mean: 0.99604, std: 0.00095, params: {'max_depth': 7, 'min_child_weight': 3},\n",
       "  mean: 0.99577, std: 0.00128, params: {'max_depth': 7, 'min_child_weight': 5}],\n",
       " {'max_depth': 5, 'min_child_weight': 1},\n",
       " 0.9962274664848787)"
      ]
     },
     "execution_count": 2,
     "metadata": {},
     "output_type": "execute_result"
    }
   ],
   "source": [
    "param_test1 = { 'max_depth': [3, 5, 7], 'min_child_weight':[1, 3, 5]}\n",
    "gsearch1 = GridSearchCV(estimator = XGBClassifier( learning_rate =0.1, n_estimators=50, max_depth=3, min_child_weight=1, \n",
    "                                                  gamma=0, subsample=0.8, colsample_bytree=0.8, objective= 'multi:softprob',\n",
    "                                                  scale_pos_weight=1),\n",
    "                        param_grid = param_test1, scoring='accuracy',n_jobs=4,iid=False, cv=5, verbose=3)\n",
    "\n",
    "gsearch1.fit(train[predictors],train[target])\n",
    "gsearch1.grid_scores_, gsearch1.best_params_, gsearch1.best_score_"
   ]
  },
  {
   "cell_type": "code",
   "execution_count": null,
   "metadata": {
    "collapsed": true
   },
   "outputs": [],
   "source": [
    "param_test2 = { 'gamma':[i/10.0 for i in range(0,2)], 'n_estimators':range(1, 4, 2) }\n",
    "gsearch2 = GridSearchCV(estimator = XGBClassifier( learning_rate =0.1, n_estimators=5, max_depth=3, min_child_weight=1, \n",
    "                                                  gamma=0, subsample=0.8, colsample_bytree=0.8, objective= 'multi:softprob',\n",
    "                                                  scale_pos_weight=1),\n",
    "                        param_grid = param_test2, scoring='accuracy',n_jobs=4,iid=False, cv=3, verbose=3)\n",
    "\n",
    "gsearch2.fit(train[predictors],train[target])\n",
    "gsearch2.grid_scores_, gsearch2.best_params_, gsearch2.best_score_"
   ]
  },
  {
   "cell_type": "code",
   "execution_count": 2,
   "metadata": {},
   "outputs": [
    {
     "ename": "NameError",
     "evalue": "name 'gsearch1' is not defined",
     "output_type": "error",
     "traceback": [
      "\u001b[0;31m---------------------------------------------------------------------------\u001b[0m",
      "\u001b[0;31mNameError\u001b[0m                                 Traceback (most recent call last)",
      "\u001b[0;32m<ipython-input-2-223808fb4f02>\u001b[0m in \u001b[0;36m<module>\u001b[0;34m()\u001b[0m\n\u001b[1;32m      2\u001b[0m \u001b[0mgrid_visualization1\u001b[0m \u001b[0;34m=\u001b[0m \u001b[0;34m[\u001b[0m\u001b[0;34m]\u001b[0m\u001b[0;34m\u001b[0m\u001b[0m\n\u001b[1;32m      3\u001b[0m \u001b[0;34m\u001b[0m\u001b[0m\n\u001b[0;32m----> 4\u001b[0;31m \u001b[0;32mfor\u001b[0m \u001b[0mgrid_pair\u001b[0m \u001b[0;32min\u001b[0m \u001b[0mgsearch1\u001b[0m\u001b[0;34m.\u001b[0m\u001b[0mgrid_scores_\u001b[0m\u001b[0;34m:\u001b[0m\u001b[0;34m\u001b[0m\u001b[0m\n\u001b[0m\u001b[1;32m      5\u001b[0m     \u001b[0mgrid_visualization1\u001b[0m\u001b[0;34m.\u001b[0m\u001b[0mappend\u001b[0m\u001b[0;34m(\u001b[0m\u001b[0mgrid_pair\u001b[0m\u001b[0;34m.\u001b[0m\u001b[0mmean_validation_score\u001b[0m\u001b[0;34m)\u001b[0m\u001b[0;34m\u001b[0m\u001b[0m\n\u001b[1;32m      6\u001b[0m \u001b[0;34m\u001b[0m\u001b[0m\n",
      "\u001b[0;31mNameError\u001b[0m: name 'gsearch1' is not defined"
     ]
    }
   ],
   "source": [
    "import seaborn as sb\n",
    "\n",
    "grid_visualization2 = []\n",
    "for grid_pair1 in gsearch2.grid_scores_:\n",
    "    grid_visualization2.append(grid_pair1.mean_validation_score)\n",
    "grid_visualization2 = np.array(grid_visualization2)\n",
    "grid_visualization2.shape = (5, 5)\n",
    "sb.heatmap(grid_visualization2, cmap='Blues')\n",
    "plt.xticks(np.arange(5) + 0.5, gsearch2.param_grid['n_estimators'])\n",
    "plt.yticks(np.arange(5) + 0.5, gsearch2.param_grid['gamma'][::-1])\n",
    "plt.xlabel('n_estimators')\n",
    "plt.ylabel('gamma')"
   ]
  },
  {
   "cell_type": "code",
   "execution_count": null,
   "metadata": {
    "collapsed": true
   },
   "outputs": [],
   "source": []
  }
 ],
 "metadata": {
  "kernelspec": {
   "display_name": "Python 2",
   "language": "python",
   "name": "python2"
  },
  "language_info": {
   "codemirror_mode": {
    "name": "ipython",
    "version": 2
   },
   "file_extension": ".py",
   "mimetype": "text/x-python",
   "name": "python",
   "nbconvert_exporter": "python",
   "pygments_lexer": "ipython2",
   "version": "2.7.12"
  }
 },
 "nbformat": 4,
 "nbformat_minor": 2
}
